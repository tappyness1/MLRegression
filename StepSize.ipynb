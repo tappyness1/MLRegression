{
 "cells": [
  {
   "cell_type": "markdown",
   "metadata": {},
   "source": [
    "## Hill Climbing Algorithm\n",
    "\n",
    "This is the algorithm to get to the maximum point of a concave curve. \n",
    "\n",
    "To the left of the curve, we know that $\\frac{dg(w)}{d(w)} > 0$, and we should be increasing the value of w\n",
    "\n",
    "To the right of the curve, we know that $\\frac{dg(w)}{d(w)} < 0$, and we should be decreasing the value of w\n",
    "\n",
    "And at the centre (the maximum point), we know that $\\frac{dg(w)}{d(w)} = 0$, and we should neither increase nor decrease the value of w.\n",
    "\n",
    "Algorithmically, we can put it down as - \n",
    "\n",
    "$w^{(t+1)} = w^{(t)} + \\eta(\\frac{dg(w)}{d(w)}$\n",
    "\n",
    "where t is the iteration, and $\\eta$ is the stepsize"
   ]
  },
  {
   "cell_type": "markdown",
   "metadata": {},
   "source": [
    "## Hill Descent Algorithm\n",
    "\n",
    "This is the algorithm to get to the maximum point of a concave curve. \n",
    "\n",
    "To the left of the curve, we know that $\\frac{dg(w)}{d(w)} < 0$, and we should be decreasing the value of w\n",
    "\n",
    "To the right of the curve, we know that $\\frac{dg(w)}{d(w)} > 0$, and we should be increasing the value of w\n",
    "\n",
    "And at the centre (the maximum point), we know that $\\frac{dg(w)}{d(w)} = 0$, and we should neither increase nor decrease the value of w.\n",
    "\n",
    "Algorithmically, we can put it down as - \n",
    "\n",
    "$w^{(t+1)} = w^{(t)} - \\eta(\\frac{dg(w)}{d(w)}$\n",
    "\n",
    "where t is the iteration, and $\\eta$ is the stepsize"
   ]
  },
  {
   "cell_type": "markdown",
   "metadata": {},
   "source": [
    "## How to choose Stepsize \n",
    "\n",
    "Fixed/Constant Stepsize \n",
    "\n",
    "- Set the $\\eta$ as constant\n",
    "- Do a while loop until the point is reached. \n",
    "\n",
    "Stepsize Schedule (decrease stepsize as you move along)\n",
    "\n",
    "- either can take ${\\eta}_t = \\frac{\\alpha}{t}$ or ${\\eta}_t = \\frac{\\alpha}{\\sqrt{t}}$"
   ]
  },
  {
   "cell_type": "markdown",
   "metadata": {},
   "source": [
    "## Convergence Criteria\n",
    "\n",
    "For convex functions, the optimal is \n",
    "\n",
    "$\\frac{dg(w)}{d(w)} = 0$\n",
    "\n",
    "But in practice, \n",
    "\n",
    "$\\frac{dg(w)}{d(w)} < \\epsilon$"
   ]
  },
  {
   "cell_type": "code",
   "execution_count": null,
   "metadata": {},
   "outputs": [],
   "source": []
  }
 ],
 "metadata": {
  "kernelspec": {
   "display_name": "Python 3",
   "language": "python",
   "name": "python3"
  },
  "language_info": {
   "codemirror_mode": {
    "name": "ipython",
    "version": 3
   },
   "file_extension": ".py",
   "mimetype": "text/x-python",
   "name": "python",
   "nbconvert_exporter": "python",
   "pygments_lexer": "ipython3",
   "version": "3.7.3"
  }
 },
 "nbformat": 4,
 "nbformat_minor": 2
}
