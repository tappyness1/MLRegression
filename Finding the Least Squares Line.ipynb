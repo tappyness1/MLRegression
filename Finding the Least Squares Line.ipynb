{
 "cells": [
  {
   "cell_type": "markdown",
   "metadata": {},
   "source": [
    "# Finding the Least Squares Line"
   ]
  },
  {
   "cell_type": "markdown",
   "metadata": {},
   "source": [
    "## Computing Gradient of RSS\n",
    "\n",
    "We want to find the min of the gradient.\n",
    "\n",
    "$\\min\\limits_{w_0,w_1} \\sum_{i=1}^{N} (y_i - [w_0 + w_1 x_i])^2$\n",
    "\n",
    "$RSS(w_0, w_1) = \\sum_{i=1}^{N} (y_i - [w_0 + w_1 x_i])^2$\n",
    "\n",
    "Computing the gradient (do a derivative based on the above sum)\n",
    "\n",
    "Step 1: Get the derivative which is -\n",
    "\n",
    "$\\frac{d}{dw}\\sum_{i=1}^{N} (y_i - [w_0 + w_1 x_i])^2$\n",
    "\n",
    "Step 2: Put the derivatives together as the gradient of RSS\n",
    "\n",
    "\n",
    "$\\nabla RSS(w_0, w_1) = \\begin{bmatrix} \n",
    "-2 \\sum_{i=1}^{N} [y_i - (w_0 + w_1 x_i)] \\\\\n",
    "-2 \\sum_{i=1}^{N} [y_i - (w_0 + w_1 x_i)]x_i \\\\\n",
    "\\end{bmatrix}$\n",
    "\n"
   ]
  },
  {
   "cell_type": "markdown",
   "metadata": {},
   "source": [
    "## First Approach - Closed-form solution\n",
    "\n",
    "1. Set Gradient = 0\n",
    "2. Solve w0 and w1\n",
    "\n",
    "In order to get w0 and w1, we will first need to compute the following:\n",
    "\n",
    "1. $\\sum_{i=1}^{N}y_i$\n",
    "2. $\\sum_{i=1}^{N}x_i$\n",
    "3. $\\sum_{i=1}^{N}y_ix_i$\n",
    "4. $\\sum_{i=1}^{N}{x_i}^2$\n",
    "\n",
    "With these 4, we can the solve the RSS gradient for $w_0$ and $w_1$ using the two terms in the RSS gradient\n",
    "\n",
    "The first term, once you shift all the stuff around, will look like this:\n",
    "\n",
    "$\\hat{w_0} = \\frac{\\sum_{i=1}^{N}y_i}{N} - \\hat{w_1}\\frac{\\sum_{i=1}^{N}x_i}{N}$\n",
    "\n",
    "For the second term, we will have something like this (have not shift yet):\n",
    "$\\sum_{i=1}^{N}y_ix_i - \\hat{w_0}\\sum_{i=1}^{N}x_i - \\hat{w_1}\\sum_{i=1}^{N}{x_i}^2$\n",
    "\n",
    "With this, we plug in the $\\hat{w_0}$ equation into the second term. We get:\n",
    "\n",
    "$\\hat{w_1} = \\frac{\\sum_{i=1}^{N}y_ix_i - \\frac{\\sum_{i=1}^{N}y_i\\sum_{i=1}^{N}x_i}{N}}{\\sum_{i=1}^{N}{x_i}^2 - \\frac{\\sum_{i=1}^{N}x_i\\sum_{i=1}^{N}x_i}{N}}$\n"
   ]
  },
  {
   "cell_type": "markdown",
   "metadata": {},
   "source": [
    "Below is an example of how to compute regression parameters (closed form style)\n",
    "\n",
    "x and y are defined."
   ]
  },
  {
   "cell_type": "code",
   "execution_count": 1,
   "metadata": {},
   "outputs": [],
   "source": [
    "x = np.array([0,1,2,3,4])\n",
    "y = np.array([1,3,7,13,21])"
   ]
  },
  {
   "cell_type": "markdown",
   "metadata": {},
   "source": [
    "We now find the $w_1$ with the equation above.\n",
    "\n",
    "$\\hat{w_1} = \\frac{\\sum_{i=1}^{N}y_ix_i - \\frac{\\sum_{i=1}^{N}y_i\\sum_{i=1}^{N}x_i}{N}}{\\sum_{i=1}^{N}{x_i}^2 - \\frac{\\sum_{i=1}^{N}x_i\\sum_{i=1}^{N}x_i}{N}}$"
   ]
  },
  {
   "cell_type": "code",
   "execution_count": 8,
   "metadata": {},
   "outputs": [],
   "source": [
    "numerator = sum(x*y) - ((sum(y)*sum(x))/len(x))\n",
    "denominator = sum(x**2) - (sum(x)*sum(x))*(1/len(x))\n",
    "slope = numerator/denominator\n"
   ]
  },
  {
   "cell_type": "markdown",
   "metadata": {},
   "source": [
    "To get the intercept, we plug the slope into the $w_0$ equation. \n",
    "\n",
    "Recall the equation is -\n",
    "\n",
    "$\\hat{w_0} = \\frac{\\sum_{i=1}^{N}y_i}{N} - \\hat{w_1}\\frac{\\sum_{i=1}^{N}x_i}{N}$"
   ]
  },
  {
   "cell_type": "code",
   "execution_count": 12,
   "metadata": {},
   "outputs": [],
   "source": [
    "intercept = (sum(y) - slope*(sum(x)))/len(x)"
   ]
  },
  {
   "cell_type": "code",
   "execution_count": 13,
   "metadata": {},
   "outputs": [
    {
     "name": "stdout",
     "output_type": "stream",
     "text": [
      "5.0\n",
      "-1.0\n"
     ]
    }
   ],
   "source": [
    "print(slope)\n",
    "print(intercept)"
   ]
  },
  {
   "cell_type": "code",
   "execution_count": 14,
   "metadata": {},
   "outputs": [
    {
     "data": {
      "text/plain": [
       "[<matplotlib.lines.Line2D at 0x2a3b76f54e0>]"
      ]
     },
     "execution_count": 14,
     "metadata": {},
     "output_type": "execute_result"
    },
    {
     "data": {
      "image/png": "[encoded data removed]",
      "text/plain": [
       "<Figure size 432x288 with 1 Axes>"
      ]
     },
     "metadata": {
      "needs_background": "dark"
     },
     "output_type": "display_data"
    }
   ],
   "source": [
    "y = slope*x + intercept\n",
    "plt.plot(x, y)"
   ]
  }
 ],
 "metadata": {
  "kernelspec": {
   "display_name": "Python 3",
   "language": "python",
   "name": "python3"
  },
  "language_info": {
   "codemirror_mode": {
    "name": "ipython",
    "version": 3
   },
   "file_extension": ".py",
   "mimetype": "text/x-python",
   "name": "python",
   "nbconvert_exporter": "python",
   "pygments_lexer": "ipython3",
   "version": "3.7.3"
  }
 },
 "nbformat": 4,
 "nbformat_minor": 2
}
