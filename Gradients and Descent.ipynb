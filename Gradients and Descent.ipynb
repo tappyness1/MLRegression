{
 "cells": [
  {
   "cell_type": "markdown",
   "metadata": {},
   "source": [
    "# How to optimise over multiple functions - Gradients and Gradient Descent"
   ]
  },
  {
   "cell_type": "markdown",
   "metadata": {},
   "source": [
    "## Gradients\n",
    "\n",
    "$\\nabla g(w) = \\begin{bmatrix} \n",
    "\\frac{dg}{dw_0} \\\\\n",
    "\\frac{dg}{dw_1} \\\\\n",
    ".  \\\\ \n",
    ". \\\\\n",
    ". \\\\\n",
    "\\frac{dg}{dw_p} \\\\\n",
    "\\end{bmatrix}$\n",
    "\n",
    "where w is $\\begin{bmatrix}w_0,&w_1,& ... &w_p\\end{bmatrix}$\n",
    "\n",
    "the partial derivative is like a derivative with respect to the iterative and treating all other variables as constants\n",
    "\n",
    "So for the example: \n",
    "\n",
    "$g(w) = 5w_0 + 10w_0w_1 + 2{w_1}^2$\n",
    "\n",
    "Then we compute the derivatives, taking care that all other variables are constant\n",
    "$\\frac{dg}{dw_0} = 5 + 10w_1$\n",
    "\n",
    "$\\frac{dg}{dw_1} = 10w_0 + 4w_1$\n",
    "\n",
    "$\\nabla g(w) = \\begin{bmatrix} \n",
    "5 + 10w_1 \\\\\n",
    "10w_0 + 4w_1 \\\\\n",
    "\\end{bmatrix}$\n"
   ]
  },
  {
   "cell_type": "markdown",
   "metadata": {},
   "source": [
    "## Gradient descent: multidimensional hill descent\n",
    "\n",
    "Contour plot - transforming a 3-d mesh into a 2-d plan\n",
    "\n",
    "The algorithm in gradient descent - \n",
    "\n",
    "while not converged:\n",
    "\n",
    "$ w^{(t+1)} = w^{(t)} - \\eta {\\nabla g(w^{(t)})}$\n",
    "\n"
   ]
  }
 ],
 "metadata": {
  "kernelspec": {
   "display_name": "Python 3",
   "language": "python",
   "name": "python3"
  },
  "language_info": {
   "codemirror_mode": {
    "name": "ipython",
    "version": 3
   },
   "file_extension": ".py",
   "mimetype": "text/x-python",
   "name": "python",
   "nbconvert_exporter": "python",
   "pygments_lexer": "ipython3",
   "version": "3.7.3"
  }
 },
 "nbformat": 4,
 "nbformat_minor": 2
}
